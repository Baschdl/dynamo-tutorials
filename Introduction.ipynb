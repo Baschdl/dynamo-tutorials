{
 "cells": [
  {
   "cell_type": "markdown",
   "metadata": {},
   "source": [
    "# Time-resolved scRNA-seq"
   ]
  },
  {
   "cell_type": "markdown",
   "metadata": {},
   "source": [
    "## RNA velocity"
   ]
  },
  {
   "cell_type": "markdown",
   "metadata": {},
   "source": [
    "Although the seminal RNA velocity work is exciting, it has the following limitations: \n",
    "\n",
    "1. It can only predict short-term direction and magnitude of RNA dynamics.\n",
    "2. It is mostly a descriptive tool but not a predictive tool. \n",
    "3. It relies on the `mis-priming` of intron reads for current single-cell platform captures and thus the intron measures are biased and inaccurate. \n",
    "4. RNA velocity was estimated as $U - \\gamma / \\beta S$ ($U$: unspliced RNA, $S$: spliced RNA, $\\gamma$: degradation rate, $\\beta$: splcing rate, $\\gamma / \\beta$ is the slope of the steady state cell fitting.), it is thus scaled by the splicing rate and lacks real physical meanings. \n",
    "\n",
    "We reason that metabolic labeling based method which measures both the historical or old, and the new and nascent RNA of cells in a controllable way will be better measurements for RNA velocity and transcriptomic dynamics. When extending metabolic labeling to single cell RNA-seq, labeling based scRNA-seq essentially measures two modalities or timepoints for the same cell. "
   ]
  },
  {
   "cell_type": "markdown",
   "metadata": {},
   "source": [
    "## How does metabolic labeling work"
   ]
  },
  {
   "cell_type": "markdown",
   "metadata": {},
   "source": [
    "How can we quantify nascent RNA via metabolic labeling? Overall there are two different methods, the biotin purification or chemical conversion based approach. Both approaches are quiet similar in that we first need to applying different labeling strategies to label the cells. For biotin purification, we need to use thiol-specific biotinylation to tag labeled mRNA. Then the streptavidin beads can be used to pull down and separate the pre-exisiting RNA and newly transcribed RNA. Then we will follow by preparing two separate libraries, old and new RNAs, for sequencing. There are a few very well known issue regarding this method:\n",
    "\n",
    "1. it often introduces 20-30% cross-contanimation between old and new RNAs\n",
    "2. it also leads to some normalization issues between different libraries. \n",
    "\n",
    "\n",
    "On the other hand, the chemical conversion based approaches avoid the labrious and error-prone procedure of separating old/old RNA and preparing two different libraries and emerged as the more favored strategy. The key idea of chemical conversion based methods are that by some chemical reaction we can artificially introduce T to C mutation which can then be used to distinuigh labelled and thus new RNA from old RNA. There are about three different chemistry developed: IAA alkylation or hydrogen bond reconfiguration via TimeLapse-seq or TUC-seq chemistry. \n",
    "\n",
    "In fact, metabolic labeling has been widely adapted for the past a few decades. We can use various nucleotides to label RNA, for example, BrU, Eu and Biotin-NTP. For 4sU based labeling, there are about four different strategies, namely, SLAM-seq, TUC-seq, TT-seq and Time-lapse-seq. \n",
    "\n",
    "<img src=\"https://raw.githubusercontent.com/Xiaojieqiu/jungle/master/labeling.png\">\n"
   ]
  },
  {
   "cell_type": "markdown",
   "metadata": {},
   "source": [
    "## Metabolic labeling based scRNA-seq"
   ]
  },
  {
   "cell_type": "markdown",
   "metadata": {},
   "source": [
    "Recently a few groups adapted the bulk method to either the plate-based scRNA-seq with smart-seq2 method, for example, scSLAM-seq or NASC-seq. scEU-seq is based on cell-seq2 and is also plate-based but has UMI in contrast to scSLAM-seq or NASC-seq. The scEU-seq method is based on EU and required purification and it thus may include cross-contanimation or normalization issue. \n",
    "\n",
    "Cao, et al recently developed sci-fate which integrates 4sU labeling and combinatorial indexing based scRNA-seq so it can potentially enables measuring hundread thousands of single cells.  \n",
    "\n",
    "For the first time, Qi from Wu from Upenn developed a drop-seq based metabolic labeling based scRNA-seq, scNT-seq. \n",
    "<img src=\"https://raw.githubusercontent.com/Xiaojieqiu/jungle/master/scLabeling.png\">\n"
   ]
  },
  {
   "cell_type": "markdown",
   "metadata": {},
   "source": [
    "## Comparison between different labeling based scRNA-seq methods\n"
   ]
  },
  {
   "cell_type": "markdown",
   "metadata": {},
   "source": [
    "Comparing scNT-seq with other method we are able to obtain substantially high number of genes and UMI per cell with relatively few number of reads. \n",
    "\n",
    "In Qi, Peng, Xiaojie, et. al, we show that dynamo can be used to leverage scNT-seq datasets for time-resolved RNA-velocity analysis. Those results demonstrate the power of dynamo and scNT-seq in revealing the fine-grained transcriptomic dynamics. \n",
    "<img src=\"https://raw.githubusercontent.com/Xiaojieqiu/jungle/master/comparision.png\">\n"
   ]
  },
  {
   "cell_type": "markdown",
   "metadata": {},
   "source": [
    "## Labeling strategies "
   ]
  },
  {
   "cell_type": "markdown",
   "metadata": {},
   "source": [
    "We can very creative and smart in designing the metabolic labeling experiment. For example, you can design an experiment where you can take different days and perform a kinetic experiment at each day. This can help you obtain transcription rate, splicing and degradation rate over time. But this is often time-consuming, so we may just choose a typical day for a single kinetic experiment. In addition, we may also perform a degradation experiment where we label the cells with 4sU for an extended time period to saturate the 4sU labelled mRNA in cells. Then we can wash out the 4sU and replaced with excess U, followed by chasing at different time points. This can help us to estimate the splicing and degradation rate (and half life) of RNA. We can also just design a one-shot labeling experiment to label cells at different time points. Since splicing and degradation rate of mRNA is often constant, thus combining one-shot experiment with degradation experiments, we are able to get even more accurate estimates of the transcription rate at each time point.  \n",
    "\n",
    "<img src=\"https://raw.githubusercontent.com/Xiaojieqiu/jungle/master/labeling_strategies.png\">\n"
   ]
  },
  {
   "cell_type": "markdown",
   "metadata": {},
   "source": [
    "## Dynamo's comprehensive model framework for lableing datasets\n"
   ]
  },
  {
   "cell_type": "markdown",
   "metadata": {},
   "source": [
    "In order to fully take advantage of the scSLAM-seq data, we recently developed a sophisticated framework, dynamo that provides an inclusive model of expression dynamics with scSLAM-seq and multiomics, vector field reconstruction and potential landscape mapping. In dynamo, we abstract every steps from RNA transcription, splicing, metabolic labeling, translation and RNA or protein degradation. We can model the mean and variance of RNA species via a set of moment equations, we then transform them into a matrix format and solve them efficiently. \n",
    "In dynamo, we also implemented the traditional RNA velocity method based on the steady state assumptions to support analyzing regular 10 x data. Similarly, dynamo supports studying cite-seq data to estimate protein velocity. \n",
    "\n",
    "<img src=\"https://raw.githubusercontent.com/Xiaojieqiu/jungle/master/estimation_framework.png\">\n"
   ]
  }
 ],
 "metadata": {
  "kernelspec": {
   "display_name": "Python 3",
   "language": "python",
   "name": "python3"
  },
  "language_info": {
   "codemirror_mode": {
    "name": "ipython",
    "version": 3
   },
   "file_extension": ".py",
   "mimetype": "text/x-python",
   "name": "python",
   "nbconvert_exporter": "python",
   "pygments_lexer": "ipython3",
   "version": "3.6.8"
  }
 },
 "nbformat": 4,
 "nbformat_minor": 4
}
