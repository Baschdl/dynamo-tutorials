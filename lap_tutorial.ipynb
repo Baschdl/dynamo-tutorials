{
 "cells": [
  {
   "cell_type": "markdown",
   "id": "7178881e-e278-4456-8923-5e41245ff922",
   "metadata": {},
   "source": [
    "# Most probably path predictions"
   ]
  },
  {
   "cell_type": "markdown",
   "metadata": {},
   "source": [
    "### Introduction"
   ]
  },
  {
   "cell_type": "markdown",
   "metadata": {},
   "source": [
    "The ability to drive conversion between different cell states has\n",
    "  garnered a great deal of attention as a promising avenue for disease\n",
    "  modeling. A fundamental challenge in the field\n",
    "  of stem cell biology is to identify and assess the feasibility of\n",
    "  optimal paths and key TFs (transcription factors) of such\n",
    "  interconversions (Figure 6A of :cite:p:`QIU2022`). The least action path (LAP) is a principled method that has previously been used in\n",
    "  theoretical efforts to predict the most probable path a cell will\n",
    "  follow during fate transition. Specifically, the optimal path between any two cell states\n",
    "  (e.g. the fixed point of HSCs and that of megakaryocytes) is searched\n",
    "  by variating the continuous path connecting the source state to the\n",
    "  target while minimizing its action and updating the associated\n",
    "  transition time. The resultant least action path has the highest\n",
    "  transition probability and is associated with a particular transition\n",
    "  time. Once the LAP is identified, we can focus only on TFs and rank them by the path integral of the mean square displacement (MSD) of gene expression with respect to the initial expression to identify key transcription factors of the associated cell fate transitions.\n",
    "\n",
    "In this tutorial, we will demonstrate how to \n",
    "- perform LAP analyses;\n",
    "- visualize transition paths found by the LAP approach on the vector field;\n",
    "- plot heatmaps of actions and transition times matrix between all hematopoietic cell types;\n",
    "- prioritize transcription factors of each predicted optimal path;\n",
    "- ROC analyses of the LAP predictions."
   ]
  },
  {
   "cell_type": "markdown",
   "id": "aca44e31",
   "metadata": {},
   "source": [
    "Import relevant packages"
   ]
  },
  {
   "cell_type": "code",
   "execution_count": null,
   "id": "51265933-8c0a-4915-91ef-ad5fe19ab679",
   "metadata": {},
   "outputs": [],
   "source": [
    "import numpy as np\n",
    "import pandas as pd\n",
    "import seaborn as sns\n",
    "import matplotlib.pyplot\n",
    "import matplotlib.pyplot as plt\n",
    "\n",
    "import sys\n",
    "import os\n",
    "\n",
    "import dynamo as dyn\n",
    "\n",
    "dyn.dynamo_logger.main_silence()"
   ]
  },
  {
   "cell_type": "markdown",
   "metadata": {},
   "source": [
    "Let us first load the human hematopoiesis scNT-seq dataset, which has stored as a sample dataset within dynamo that can be download directly using the above function, produced in this study (:cite:p:`QIU2022`). In this tutorial we will focus on analyzing this scNT-seq dataset because decades of researches in hematopoiesis make it a well suited system for testing LAP predictions. \n"
   ]
  },
  {
   "cell_type": "code",
   "execution_count": null,
   "id": "29812475",
   "metadata": {},
   "outputs": [],
   "source": [
    " adata_labeling = dyn.sample_data. hematopoiesis()"
   ]
  },
  {
   "cell_type": "code",
   "execution_count": null,
   "metadata": {},
   "outputs": [],
   "source": [
    "adata_labeling"
   ]
  },
  {
   "cell_type": "code",
   "execution_count": null,
   "id": "4569f0e3-c199-4194-8f55-2e76b4e23e96",
   "metadata": {},
   "outputs": [],
   "source": [
    "dyn.pl.streamline_plot(adata_labeling, basis=\"umap\", color=\"cell_type\")\n",
    "\n",
    "HSC_cells = dyn.tl.select_cell(adata_labeling, \"cell_type\", \"HSC\")\n",
    "Meg_cells = dyn.tl.select_cell(adata_labeling, \"cell_type\", \"Meg\")\n",
    "Ery_cells = dyn.tl.select_cell(adata_labeling, \"cell_type\", \"Ery\")\n",
    "Bas_cells = dyn.tl.select_cell(adata_labeling, \"cell_type\", \"Bas\")\n",
    "Mon_cells = dyn.tl.select_cell(adata_labeling, \"cell_type\", \"Mon\")\n",
    "Neu_cells = dyn.tl.select_cell(adata_labeling, \"cell_type\", \"Neu\")"
   ]
  },
  {
   "cell_type": "markdown",
   "id": "d4a1c154-496c-4a6b-8aad-d5d2bd82fd3c",
   "metadata": {},
   "source": [
    "We select the five closest cells of the identified attractors that correspond to each of the six cell types to represent the typical cell state of these cells (note that attractors often don't correspond to any particular cell).\n"
   ]
  },
  {
   "cell_type": "code",
   "execution_count": null,
   "id": "450a4f59-b7f2-4511-bb72-9913264ec84d",
   "metadata": {},
   "outputs": [],
   "source": [
    "from dynamo.tools.utils import nearest_neighbors\n",
    "\n",
    "extreme_points = np.array(\n",
    "    [\n",
    "        [8.45201833, 9.37697661],\n",
    "        [14.00630381, 2.53853712],\n",
    "        [17.30550636, 6.81561775],\n",
    "        [18.06891717, 11.9840678],\n",
    "        [14.13613403, 15.22244713],\n",
    "        [9.72644402, 14.83745969],\n",
    "    ]\n",
    ")\n",
    "\n",
    "HSC_cells_indices = nearest_neighbors(extreme_points[0], adata_labeling.obsm[\"X_umap\"])\n",
    "Meg_cells_indices = nearest_neighbors(extreme_points[1], adata_labeling.obsm[\"X_umap\"])\n",
    "Ery_cells_indices = nearest_neighbors(extreme_points[2], adata_labeling.obsm[\"X_umap\"])\n",
    "Bas_cells_indices = nearest_neighbors(extreme_points[3], adata_labeling.obsm[\"X_umap\"])\n",
    "Mon_cells_indices = nearest_neighbors(extreme_points[4], adata_labeling.obsm[\"X_umap\"])\n",
    "Neu_cells_indices = nearest_neighbors(extreme_points[5], adata_labeling.obsm[\"X_umap\"])\n"
   ]
  },
  {
   "cell_type": "code",
   "execution_count": null,
   "id": "3a2561be-5ab1-4780-94a0-6725e67c1422",
   "metadata": {},
   "outputs": [],
   "source": [
    "import matplotlib.pyplot as plt\n",
    "\n",
    "# plt.figure(figsize=(4, 4))\n",
    "\n",
    "plt.scatter(*adata_labeling.obsm[\"X_umap\"].T)\n",
    "for indices in [\n",
    "    HSC_cells_indices,\n",
    "    Meg_cells_indices,\n",
    "    Ery_cells_indices,\n",
    "    Bas_cells_indices,\n",
    "    Mon_cells_indices,\n",
    "    Neu_cells_indices,\n",
    "]:\n",
    "    plt.scatter(*adata_labeling[indices[0]].obsm[\"X_umap\"].T)\n"
   ]
  },
  {
   "cell_type": "markdown",
   "metadata": {},
   "source": [
    "We can see, for example, the cell indices ``1587, 1557, 1725, 1091, 1070`` are the nearest cells to the identified HSC attractor. \n"
   ]
  },
  {
   "cell_type": "code",
   "execution_count": null,
   "id": "280284f8-9ef0-474c-8e64-ee2e2fc45515",
   "metadata": {},
   "outputs": [],
   "source": [
    "HSC_cells_indices\n"
   ]
  },
  {
   "cell_type": "markdown",
   "id": "819d4c5c-36b9-4820-92b3-c86cab1bfe2d",
   "metadata": {},
   "source": [
    "Now we are ready to perform the LAP analyses. We will start with computing the neighbor graph of cells in the umap space (pca space works too) and use the shortest paths between any two represented cells as the initial guess of the LAP. We will next run the LAP analyses between all pair-wise combinations of cells. We can either perform the LAP analyses on the UMAP space or in the PCA space, using the vector field reconstructed in UMAP or PCA space, respectively. With the vector field learned in the PCA space, we can then further projected the optimized LAP back to the original gene expression space to reveal the transcriptomic kinetics along the LAP. \n"
   ]
  },
  {
   "cell_type": "markdown",
   "id": "48085d17",
   "metadata": {},
   "source": [
    "### Compute neighbor graph based on `umap`"
   ]
  },
  {
   "cell_type": "code",
   "execution_count": null,
   "id": "e38b0c47-708f-4209-ae95-e542f889a288",
   "metadata": {},
   "outputs": [],
   "source": [
    "dyn.tl.neighbors(adata_labeling, basis=\"umap\", result_prefix=\"umap\")\n"
   ]
  },
  {
   "cell_type": "markdown",
   "id": "a8ae1a3d-3c06-40ca-9e35-b6e0d811dc3a",
   "metadata": {},
   "source": [
    "### Run pairwise least action path analyses among six distinct hematopoietic cell types"
   ]
  },
  {
   "cell_type": "markdown",
   "metadata": {},
   "source": [
    "This section will demonstrate how to compute LAPs for all possible cell type transition pairs in our scNT-seq dataset. The corresponding function in\n",
    "*dynamo* is ``dyn.pd.least_action``. This function takes an ``adata`` object that has continous vector field reconstructed, a start\n",
    "cell and a target cell to compute least action path or most probable path between them. As shown\n",
    "above, either UMAP or PCA basis can be used. Here we use the UMAP basis to visualize the LAP and the PCA basis \n",
    "for downstream transcription factor prioritization and other analyses.\n",
    "\n",
    "Note that the following block also demonstrates using the `GeneTrajectory` function to reverse project the optimized LAP in PCA space back to the original gene expression space to reveal the transcriptomic kinetics along the LAP. We then calculate the accumulative MSD (mean square displacement) with respect to the initial state of each gene along the LAP in the original gene expression space (with `calc_msd` function) and use this score to prioritize the importance of each gene (with `rank_genes` function). Genes with top MSD have higher variances with respect to the initial state and will be ranked higher, which may also indicate key roles in making the cell fate conversions. \n",
    "\n",
    "Please refer to the API documentation of each of these functions for\n",
    "detailed explanation of their input parameters, output, etc. Please also check our primers on the optimal path and the Cell paper for more in-depth understandings. "
   ]
  },
  {
   "cell_type": "code",
   "execution_count": 17,
   "id": "a90d9752-10db-43a1-bfa7-4eb0224aff94",
   "metadata": {},
   "outputs": [],
   "source": [
    "%%capture\n",
    "\n",
    "dyn.dynamo_logger.main_silence()\n",
    "transition_graph = {}\n",
    "cell_type = [\"HSC\", \"Meg\", \"Ery\", \"Bas\", \"Mon\", \"Neu\"]\n",
    "start_cell_indices = [\n",
    "    HSC_cells_indices,\n",
    "    Meg_cells_indices,\n",
    "    Ery_cells_indices,\n",
    "    Bas_cells_indices,\n",
    "    Mon_cells_indices,\n",
    "    Neu_cells_indices,\n",
    "]\n",
    "end_cell_indices = start_cell_indices\n",
    "for i, start in enumerate(start_cell_indices):\n",
    "    for j, end in enumerate(end_cell_indices):\n",
    "        if start is not end:\n",
    "            min_lap_t = True if i == 0 else False\n",
    "            dyn.pd.least_action(\n",
    "                adata_labeling,\n",
    "                [adata_labeling.obs_names[start[0]][0]],\n",
    "                [adata_labeling.obs_names[end[0]][0]],\n",
    "                basis=\"umap\",\n",
    "                adj_key=\"X_umap_distances\",\n",
    "                min_lap_t= min_lap_t,\n",
    "                EM_steps=2,\n",
    "            )\n",
    "            dyn.pl.least_action(adata_labeling, basis=\"umap\")\n",
    "            lap = dyn.pd.least_action(\n",
    "                adata_labeling,\n",
    "                [adata_labeling.obs_names[start[0]][0]],\n",
    "                [adata_labeling.obs_names[end[0]][0]],\n",
    "                basis=\"pca\",\n",
    "                adj_key=\"cosine_transition_matrix\",\n",
    "                min_lap_t=min_lap_t,\n",
    "                EM_steps=2,\n",
    "            )\n",
    "            dyn.pl.kinetic_heatmap(\n",
    "                adata_labeling,\n",
    "                basis=\"pca\",\n",
    "                mode=\"lap\",\n",
    "                genes=adata_labeling.var_names[adata_labeling.var.use_for_transition],\n",
    "                project_back_to_high_dim=True,\n",
    "            )\n",
    "            # The `GeneTrajectory` class can be used to output trajectories for any set of genes of interest\n",
    "            gtraj = dyn.pd.GeneTrajectory(adata_labeling)\n",
    "            gtraj.from_pca(lap.X, t=lap.t)\n",
    "            gtraj.calc_msd()\n",
    "            ranking = dyn.vf.rank_genes(adata_labeling, \"traj_msd\")\n",
    "\n",
    "            print(start, \"->\", end)\n",
    "            genes = ranking[:5][\"all\"].to_list()\n",
    "            arr = gtraj.select_gene(genes)\n",
    "\n",
    "            dyn.pl.multiplot(lambda k: [plt.plot(arr[k, :]), plt.title(genes[k])], np.arange(len(genes)))\n",
    "\n",
    "            transition_graph[cell_type[i] + \"->\" + cell_type[j]] = {\n",
    "                \"lap\": lap,\n",
    "                \"LAP_umap\": adata_labeling.uns[\"LAP_umap\"],\n",
    "                \"LAP_pca\": adata_labeling.uns[\"LAP_pca\"],\n",
    "                \"ranking\": ranking,\n",
    "                \"gtraj\": gtraj,\n",
    "            }\n"
   ]
  },
  {
   "cell_type": "markdown",
   "metadata": {},
   "source": [
    "## Visualize developmental LAPs"
   ]
  },
  {
   "cell_type": "code",
   "execution_count": null,
   "metadata": {},
   "outputs": [],
   "source": [
    "develope_keys = [\"HSC->Meg\", \"HSC->Ery\", \"HSC->Bas\", \"HSC->Mon\", \"HSC->Neu\"]\n",
    "reprogram_keys = [\"Meg->HSC\", \"Ery->HSC\", \"Bas->HSC\", \"Mon->HSC\", \"Neu->HSC\"]\n",
    "transdifferentiation = [\n",
    "    \"Ery->Meg\",\n",
    "    \"Neu->Bas\",\n",
    "    \"Mon->Ery\",\n",
    "    \"Bas->Meg\",\n",
    "    \"Neu->Meg\",\n",
    "    \"Meg->Bas\",\n",
    "    \"Mon->Bas\",\n",
    "    \"Neu->Mon\",\n",
    "    \"Meg->Ery\",\n",
    "    \"Ery->Bas\",\n",
    "    \"Bas->Mon\",\n",
    "    \"Mon->Neu\",\n",
    "    \"Neu->Ery\",\n",
    "    \"Mon->Meg\",\n",
    "    \"Bas->Neu\",\n",
    "    \"Meg->Neu\",\n",
    "    \"Ery->Mon\",\n",
    "    \"Meg->Mon\",\n",
    "    \"Ery->Neu\",\n",
    "    \"Bas->Ery\",\n",
    "]\n"
   ]
  },
  {
   "cell_type": "code",
   "execution_count": null,
   "metadata": {},
   "outputs": [],
   "source": [
    "from dynamo.plot.utils import map2color\n",
    "def plot_lap(paths):\n",
    "    fig, ax = plt.subplots(figsize=(6, 4))\n",
    "    ax = dyn.pl.streamline_plot(\n",
    "        adata_labeling, basis=\"umap\", save_show_or_return=\"return\", ax=ax, color=\"cell_type\", frontier=True\n",
    "    )\n",
    "    ax = ax[0]\n",
    "    x, y = 0, 1\n",
    "\n",
    "    # plot paths\n",
    "    for path in paths:\n",
    "        lap_dict = transition_graph[path][\"LAP_umap\"]\n",
    "        for prediction, action in zip(lap_dict[\"prediction\"], lap_dict[\"action\"]):\n",
    "            ax.scatter(*prediction[:, [x, y]].T, c=map2color(action))\n",
    "            ax.plot(*prediction[:, [x, y]].T, c=\"k\")\n",
    "plot_lap(develope_keys)\n",
    "\n"
   ]
  },
  {
   "cell_type": "markdown",
   "metadata": {},
   "source": [
    "**Reprogram LAPs**"
   ]
  },
  {
   "cell_type": "code",
   "execution_count": null,
   "metadata": {},
   "outputs": [],
   "source": [
    "plot_lap(reprogram_keys)\n"
   ]
  },
  {
   "cell_type": "markdown",
   "metadata": {},
   "source": [
    "**Transdifferentiation LAPs**"
   ]
  },
  {
   "cell_type": "code",
   "execution_count": null,
   "metadata": {},
   "outputs": [],
   "source": [
    "\n",
    "plot_lap(transdifferentiation)\n"
   ]
  },
  {
   "cell_type": "markdown",
   "metadata": {},
   "source": [
    "Next, we will focus on transcription factors (TFs) and rank them based on their MSD along the LAP path to prioritize the importance of each TF. Meanwhile, we will also keep the action (an functional of the LAP) and the least action path time, with `action_df` and `t_df`, respectively, of each of these conversions. "
   ]
  },
  {
   "cell_type": "code",
   "execution_count": null,
   "metadata": {},
   "outputs": [],
   "source": [
    "human_tfs = dyn.sample_data.human_tfs()\n",
    "human_tfs_names = list(human_tfs[\"Symbol\"])\n"
   ]
  },
  {
   "cell_type": "code",
   "execution_count": null,
   "metadata": {},
   "outputs": [],
   "source": [
    "action_df = pd.DataFrame(index=cell_type, columns=cell_type)\n",
    "t_df = pd.DataFrame(index=cell_type, columns=cell_type)\n",
    "for i, start in enumerate(\n",
    "    [\n",
    "        HSC_cells_indices,\n",
    "        Meg_cells_indices,\n",
    "        Ery_cells_indices,\n",
    "        Bas_cells_indices,\n",
    "        Mon_cells_indices,\n",
    "        Neu_cells_indices,\n",
    "    ]\n",
    "):\n",
    "    for j, end in enumerate(\n",
    "        [\n",
    "            HSC_cells_indices,\n",
    "            Meg_cells_indices,\n",
    "            Ery_cells_indices,\n",
    "            Bas_cells_indices,\n",
    "            Mon_cells_indices,\n",
    "            Neu_cells_indices,\n",
    "        ]\n",
    "    ):\n",
    "        if start is not end:\n",
    "            print(cell_type[i] + \"->\" + cell_type[j], end=\",\")\n",
    "            lap = transition_graph[cell_type[i] + \"->\" + cell_type[j]][\"lap\"]  # lap\n",
    "            gtraj = transition_graph[cell_type[i] + \"->\" + cell_type[j]][\"gtraj\"]\n",
    "            ranking = transition_graph[cell_type[i] + \"->\" + cell_type[j]][\"ranking\"].copy()\n",
    "            ranking[\"TF\"] = [i in human_tfs_names for i in list(ranking[\"all\"])]\n",
    "            genes = ranking.query(\"TF == True\").head(10)[\"all\"].to_list()\n",
    "            arr = gtraj.select_gene(genes)\n",
    "            action_df.loc[cell_type[i], cell_type[j]] = lap.action()[-1]\n",
    "            t_df.loc[cell_type[i], cell_type[j]] = lap.t[-1]\n"
   ]
  },
  {
   "cell_type": "markdown",
   "metadata": {},
   "source": [
    "We now visualize the LAP time of all developmental LAPs. Interestingly, we show that the LAP time from HSC to Meg lineage LAP (28 hour) is the shortest among all\n",
    "developmental LAPs, consistent with the fact that megakaryocyte is the earliest cell type to appear. The predicted 28 hours is also on the time-scale of what has been reported for the single HSC transplantation experiments. We want to note that because we used the metabolic labeling based scRNA-seq, we obtained absolute RNA velocity and thus we can predict the actual time (with units of hour) of the LAP, a rather remarkable feature of the labeling data. "
   ]
  },
  {
   "cell_type": "code",
   "execution_count": null,
   "metadata": {},
   "outputs": [],
   "source": [
    "dyn.configuration.set_pub_style(scaler=1.5)\n",
    "develop_time_df = pd.DataFrame({\"integration time\": t_df.iloc[0, :].T})\n",
    "develop_time_df[\"lineage\"] = [\"HSC\", \"Meg\", \"Ery\", \"Bas\", \"Mon\", \"Neu\"]\n",
    "print(develop_time_df)\n",
    "ig, ax = plt.subplots(figsize=(4, 3))\n",
    "dynamo_color_dict = {\n",
    "    \"Mon\": \"#b88c7a\",\n",
    "    \"Meg\": \"#5b7d80\",\n",
    "    \"MEP-like\": \"#6c05e8\",\n",
    "    \"Ery\": \"#5d373b\",\n",
    "    \"Bas\": \"#d70000\",\n",
    "    \"GMP-like\": \"#ff4600\",\n",
    "    \"HSC\": \"#c35dbb\",\n",
    "    \"Neu\": \"#2f3ea8\",\n",
    "}\n",
    "\n",
    "sns.barplot(\n",
    "    y=\"lineage\",\n",
    "    x=\"integration time\",\n",
    "    hue=\"lineage\",\n",
    "    data=develop_time_df.iloc[1:, :],\n",
    "    dodge=False,\n",
    "    palette=dynamo_color_dict,\n",
    "    ax=ax,\n",
    ")\n",
    "ax.set_ylabel(\"\")\n",
    "plt.tight_layout()\n",
    "plt.legend(bbox_to_anchor=(1.05, 1), loc=\"upper left\")\n"
   ]
  },
  {
   "cell_type": "markdown",
   "metadata": {},
   "source": [
    "## Heatmap of LAP actions and LAP time matrices of pairwise cell fate conversions\n"
   ]
  },
  {
   "cell_type": "markdown",
   "metadata": {},
   "source": [
    "Here we are going to visualize the transition matrices of actions and LAP time between all pair-wise cell type conversions with heatmaps. Overall, we find the the developmental LAP time is much larger than that of the dedifferentiation LAP while the action has the opposite pattern. "
   ]
  },
  {
   "cell_type": "code",
   "execution_count": null,
   "metadata": {},
   "outputs": [],
   "source": [
    "action_df = action_df.fillna(0)\n",
    "f, ax = plt.subplots(figsize=(5, 5))\n",
    "dyn.configuration.set_pub_style(scaler=3)\n",
    "ax = sns.heatmap(action_df, annot=True, ax=ax, fmt=\".2g\")\n"
   ]
  },
  {
   "cell_type": "code",
   "execution_count": null,
   "metadata": {},
   "outputs": [],
   "source": [
    "t_df = t_df.fillna(0)\n",
    "dyn.configuration.set_pub_style(scaler=3)\n",
    "ax = sns.heatmap(t_df, annot=True, fmt=\".3g\")\n"
   ]
  },
  {
   "cell_type": "markdown",
   "metadata": {},
   "source": [
    "## Kinetics heatmap of gene expression dynamics along the LAP\n",
    "\n",
    "As mentioned above, we are able to obtain the gene-wise kinetics when we reverse projected the LAP learned in PCA space back to gene-wise space. In this section we will show how to do so and we will create a kinetics heatmap of the transcriptomic dynamics along the LAP from HSC to basophil lineage. We will rely on mainly two functions, ``dyn.pd.least_action``  and ``dyn.pl.kinetic_heatmap``. ``dyn.pd.least_action`` can be used to computes the optimal paths between any two cell states, as mentioned above while ``dyn.pl.kinetic_heatmap`` can be used to plot kinetics\n",
    "heatmap.\n",
    "\n",
    "Here we will identify the LAP from the HSC to basophil lineage, and thus one typical HSC and one typical basophil cell are chosen as the initial and target cell, respectively. "
   ]
  },
  {
   "cell_type": "code",
   "execution_count": null,
   "metadata": {},
   "outputs": [],
   "source": [
    "init_cells = [adata_labeling.obs_names[HSC_cells_indices[0][0]]]\n",
    "target_cells = [adata_labeling.obs_names[Bas_cells_indices[0][0]]]\n",
    "print(\"init cells:\", init_cells)\n",
    "print(\"target cells:\", target_cells)"
   ]
  },
  {
   "cell_type": "markdown",
   "metadata": {},
   "source": [
    "Now let us find the optimal path between HSC to basophil lineage via the ``least_action`` function."
   ]
  },
  {
   "cell_type": "code",
   "execution_count": null,
   "metadata": {},
   "outputs": [],
   "source": [
    "dyn.configuration.set_pub_style(scaler=0.6)\n",
    "\n",
    "lap = dyn.pd.least_action(\n",
    "    adata_labeling,\n",
    "    init_cells=init_cells,\n",
    "    target_cells=target_cells,\n",
    "    basis=\"pca\",\n",
    "    adj_key=\"cosine_transition_matrix\",\n",
    ")\n"
   ]
  },
  {
   "cell_type": "markdown",
   "metadata": {},
   "source": [
    "Now let us plot the kinetic heatmap of the gene expression kinetics of all transcription factors (restricted only to those that are used for calculating the velocity transition matrix) along the LAP from HSC to basophil lineage.  "
   ]
  },
  {
   "cell_type": "code",
   "execution_count": null,
   "metadata": {},
   "outputs": [],
   "source": [
    "from matplotlib import pyplot, transforms\n",
    "\n",
    "is_human_tfs = [gene in human_tfs_names for gene in adata_labeling.var_names[adata_labeling.var.use_for_transition]]\n",
    "human_genes = adata_labeling.var_names[adata_labeling.var.use_for_transition][is_human_tfs]\n",
    "dyn.configuration.set_pub_style(scaler=0.6)\n",
    "\n",
    "sns.set(font_scale=0.8)\n",
    "sns_heatmap = dyn.pl.kinetic_heatmap(\n",
    "    adata_labeling,\n",
    "    basis=\"pca\",\n",
    "    mode=\"lap\",\n",
    "    figsize=(16, 8),\n",
    "    genes=human_genes,\n",
    "    project_back_to_high_dim=True,\n",
    "    save_show_or_return=\"return\",\n",
    "    color_map=\"bwr\",\n",
    "    transpose=True,\n",
    "    xticklabels=True,\n",
    "    yticklabels=False,\n",
    ")\n",
    "plt.setp(sns_heatmap.ax_heatmap.xaxis.get_majorticklabels(), rotation=90)\n",
    "plt.tight_layout()\n"
   ]
  },
  {
   "cell_type": "markdown",
   "metadata": {},
   "source": [
    "Now let us swap ``target_cells`` and ``init_cells``, when passing parameters into ``dyn.pd.least_action``, to draw the  the kinetic heatmap of the gene expression kinetics of all transcription factors along the LAP from basophil to HSC. \n"
   ]
  },
  {
   "cell_type": "code",
   "execution_count": null,
   "metadata": {},
   "outputs": [],
   "source": [
    "from matplotlib import pyplot, transforms\n",
    "\n",
    "is_human_tfs = [gene in human_tfs_names for gene in adata_labeling.var_names[adata_labeling.var.use_for_transition]]\n",
    "human_genes = adata_labeling.var_names[adata_labeling.var.use_for_transition][is_human_tfs]\n",
    "lap = dyn.pd.least_action(\n",
    "    adata_labeling,\n",
    "    init_cells=target_cells,\n",
    "    target_cells=init_cells,\n",
    "    basis=\"pca\",\n",
    "    adj_key=\"cosine_transition_matrix\",\n",
    ")\n",
    "sns.set(font_scale=0.8)\n",
    "sns_heatmap = dyn.pl.kinetic_heatmap(\n",
    "    adata_labeling,\n",
    "    basis=\"pca\",\n",
    "    mode=\"lap\",\n",
    "    figsize=(16, 8),\n",
    "    genes=human_genes,\n",
    "    project_back_to_high_dim=True,\n",
    "    save_show_or_return=\"return\",\n",
    "    color_map=\"bwr\",\n",
    "    transpose=True,\n",
    "    xticklabels=True,\n",
    "    yticklabels=False,\n",
    ")\n",
    "plt.setp(sns_heatmap.ax_heatmap.xaxis.get_majorticklabels(), rotation=90)\n",
    "plt.tight_layout()\n"
   ]
  },
  {
   "cell_type": "markdown",
   "metadata": {},
   "source": [
    "## Evaluate TF rankings based on LAP analyses\n",
    "As mentioned above, we can rank TFs based on the mean square displacement (MSD) along the LAP . In this section, we are going to evaluate rankings from LAP analyses by comparing with known transcription factors that enable the successful cell fate conversion, reported from literature. More details can be found in the dynamo paper :cite:p:`QIU2022`. \n",
    "\n",
    "We first prepare TF ranking dataframes that will be used to create ranking statistics in this\n",
    "section. We first identify the TFs from all genes (``[\"TF\"]`` key) and tag TFs that are known transcription factor for the corresponding cell fate conversion  (``[\"known_TF\"]`` key). To the best we can, we all manually compiled all known factors for all known hematopoietic cell fate transitions (including developmental process). Please see supplementary table 2 from dynamo paper :cite:p:`QIU2022` for more details. \n",
    "\n",
    "This part is specific to our scNT-seq dataset but should be easily changed to meet your needs as well. "
   ]
  },
  {
   "cell_type": "code",
   "execution_count": null,
   "metadata": {},
   "outputs": [],
   "source": [
    "%%capture\n",
    "HSC_Meg_ranking = transition_graph[\"HSC->Meg\"][\"ranking\"]\n",
    "HSC_Meg_ranking[\"TF\"] = [i in human_tfs_names for i in list(HSC_Meg_ranking[\"all\"])]\n",
    "\n",
    "HSC_Meg_ranking = HSC_Meg_ranking.query(\"TF == True\")\n",
    "HSC_Meg_ranking[\"known_TF\"] = [\n",
    "    i in [\"GATA1\", \"GATA2\", \"ZFPM1\", \"GFI1B\", \"FLI1\", \"NFE2\"] for i in list(HSC_Meg_ranking[\"all\"])\n",
    "]\n",
    "\n",
    "HSC_Ery_ranking = transition_graph[\"HSC->Ery\"][\"ranking\"]\n",
    "HSC_Ery_ranking[\"TF\"] = [i in human_tfs_names for i in list(HSC_Ery_ranking[\"all\"])]\n",
    "\n",
    "HSC_Ery_ranking = HSC_Ery_ranking.query(\"TF == True\")\n",
    "HSC_Ery_ranking[\"known_TF\"] = [\n",
    "    i in [\"GATA1\", \"ZFPM1\", \"GFI1B\", \"KLF1\", \"SPI1\", \"GATA2\", \"LDB1\", \"TAL1\", \"ZFPM1\"]\n",
    "    for i in list(HSC_Ery_ranking[\"all\"])\n",
    "]\n",
    "\n",
    "HSC_Bas_ranking = transition_graph[\"HSC->Bas\"][\"ranking\"]\n",
    "HSC_Bas_ranking[\"TF\"] = [i in human_tfs_names for i in list(ranking[\"all\"])]\n",
    "\n",
    "HSC_Bas_ranking = HSC_Bas_ranking.query(\"TF == True\")\n",
    "HSC_Bas_ranking[\"known_TF\"] = [i in [\"CEBPA\", \"GATA2\", \"GATA1\", \"RUNX1\"] for i in list(HSC_Bas_ranking[\"all\"])]\n",
    "HSC_Bas_ranking\n",
    "\n",
    "HSC_Mon_ranking = transition_graph[\"HSC->Mon\"][\"ranking\"]\n",
    "HSC_Mon_ranking[\"TF\"] = [i in human_tfs_names for i in list(ranking[\"all\"])]\n",
    "\n",
    "HSC_Mon_ranking = HSC_Mon_ranking.query(\"TF == True\")\n",
    "HSC_Mon_ranking[\"known_TF\"] = [i in [\"SPI1\", \"IRF8\", \"IRF5\", \"ZEB2\", \"KLF4\"] for i in list(HSC_Mon_ranking[\"all\"])]\n",
    "HSC_Mon_ranking\n",
    "\n",
    "HSC_Neu_ranking = transition_graph[\"HSC->Neu\"][\"ranking\"]\n",
    "HSC_Neu_ranking[\"TF\"] = [i in human_tfs_names for i in list(HSC_Neu_ranking[\"all\"])]\n",
    "\n",
    "HSC_Neu_ranking = HSC_Neu_ranking.query(\"TF == True\")\n",
    "HSC_Neu_ranking[\"known_TF\"] = [i in [\"GFI1\", \"PER3\", \"GATA1\", \"ETS3\"] for i in list(HSC_Neu_ranking[\"all\"])]\n",
    "HSC_Neu_ranking\n",
    "\n",
    "#\n",
    "Meg_HSC_ranking = transition_graph[\"Meg->HSC\"][\"ranking\"]\n",
    "Meg_HSC_ranking[\"TF\"] = [i in human_tfs_names for i in list(Meg_HSC_ranking[\"all\"])]\n",
    "\n",
    "Meg_HSC_ranking = Meg_HSC_ranking.query(\"TF == True\")\n",
    "Meg_HSC_ranking[\"known_TF\"] = [\n",
    "    i in [\"RUN1T1\", \"HLF\", \"LMO2\", \"PRDM5\", \"PBX1\", \"ZFP37\", \"MYCN\", \"MEIS1\"] for i in list(Meg_HSC_ranking[\"all\"])\n",
    "]\n",
    "\n",
    "\n",
    "# An erythroid to myeloid cell fate conversion is elicited by LSD1 inactivation\n",
    "Ery_Mon_ranking = transition_graph[\"Ery->Mon\"][\"ranking\"]\n",
    "Ery_Mon_ranking[\"TF\"] = [i in human_tfs_names for i in list(Ery_Mon_ranking[\"all\"])]\n",
    "\n",
    "Ery_Mon_ranking = Ery_Mon_ranking.query(\"TF == True\")\n",
    "Ery_Mon_ranking[\"known_TF\"] = [i in [\"LSD1\", \"RUNX1\"] for i in list(Ery_Mon_ranking[\"all\"])]\n",
    "\n",
    "Ery_Neu_ranking = transition_graph[\"Ery->Neu\"][\"ranking\"]\n",
    "Ery_Neu_ranking[\"TF\"] = [i in human_tfs_names for i in list(Ery_Neu_ranking[\"all\"])]\n",
    "\n",
    "Ery_Neu_ranking = Ery_Neu_ranking.query(\"TF == True\")\n",
    "Ery_Neu_ranking[\"known_TF\"] = [i in [\"LSD1\", \"RUNX1\"] for i in list(Ery_Neu_ranking[\"all\"])]\n",
    "\n",
    "# http://genesdev.cshlp.org/content/20/21/3010.long\n",
    "\n",
    "Mon_Bas_ranking = transition_graph[\"Mon->Bas\"][\"ranking\"]\n",
    "Mon_Bas_ranking[\"TF\"] = [i in human_tfs_names for i in list(Mon_Bas_ranking[\"all\"])]\n",
    "\n",
    "Mon_Bas_ranking = Mon_Bas_ranking.query(\"TF == True\")\n",
    "Mon_Bas_ranking[\"known_TF\"] = [i in [\"GATA2\", \"CEBPA\"] for i in list(Mon_Bas_ranking[\"all\"])]\n",
    "\n",
    "Neu_Bas_ranking = transition_graph[\"Neu->Bas\"][\"ranking\"]\n",
    "Neu_Bas_ranking[\"TF\"] = [i in human_tfs_names for i in list(Neu_Bas_ranking[\"all\"])]\n",
    "\n",
    "Neu_Bas_ranking = Neu_Bas_ranking.query(\"TF == True\")\n",
    "Neu_Bas_ranking[\"known_TF\"] = [i in [\"GATA2\", \"CEBPA\"] for i in list(Mon_Bas_ranking[\"all\"])]\n",
    "\n",
    "\n",
    "# GATA-1 Converts Lymphoid and Myelomonocytic Progenitors into the Megakaryocyte/Erythrocyte Lineages\n",
    "\n",
    "Mon_Meg_ranking = transition_graph[\"Mon->Meg\"][\"ranking\"]\n",
    "Mon_Meg_ranking[\"TF\"] = [i in human_tfs_names for i in list(Mon_Meg_ranking[\"all\"])]\n",
    "\n",
    "Mon_Meg_ranking = Mon_Meg_ranking.query(\"TF == True\")\n",
    "Mon_Meg_ranking[\"known_TF\"] = [i in [\"GATA1\", \"ZFPM1\", \"GATA2\"] for i in list(Mon_Meg_ranking[\"all\"])]\n",
    "\n",
    "Mon_Ery_ranking = transition_graph[\"Mon->Ery\"][\"ranking\"]\n",
    "Mon_Ery_ranking[\"TF\"] = [i in human_tfs_names for i in list(Mon_Ery_ranking[\"all\"])]\n",
    "\n",
    "Mon_Ery_ranking = Mon_Ery_ranking.query(\"TF == True\")\n",
    "Mon_Ery_ranking[\"known_TF\"] = [i in [\"GATA1\", \"ZFPM1\", \"GATA2\"] for i in list(Mon_Ery_ranking[\"all\"])]\n",
    "\n",
    "\n",
    "# Tom's paper\n",
    "Meg_Neu_ranking = transition_graph[\"Meg->Neu\"][\"ranking\"]\n",
    "Meg_Neu_ranking[\"TF\"] = [i in human_tfs_names for i in list(Meg_Neu_ranking[\"all\"])]\n",
    "\n",
    "Meg_Neu_ranking = Meg_Neu_ranking.query(\"TF == True\")\n",
    "Meg_Neu_ranking[\"known_TF\"] = [i in [\"CEBPA\", \"CEBPB\", \"CEBPE\", \"SPI1\"] for i in list(Meg_Neu_ranking[\"all\"])]\n",
    "\n",
    "Ery_Neu_ranking = transition_graph[\"Ery->Neu\"][\"ranking\"]\n",
    "Ery_Neu_ranking[\"TF\"] = [i in human_tfs_names for i in list(Ery_Neu_ranking[\"all\"])]\n",
    "\n",
    "Ery_Neu_ranking = Ery_Neu_ranking.query(\"TF == True\")\n",
    "Ery_Neu_ranking[\"known_TF\"] = [i in [\"CEBPA\", \"CEBPB\", \"CEBPE\", \"SPI1\"] for i in list(Ery_Neu_ranking[\"all\"])]\n"
   ]
  },
  {
   "cell_type": "code",
   "execution_count": null,
   "id": "0a8a0ac7-8812-432e-841d-4b712a5d50ee",
   "metadata": {},
   "outputs": [],
   "source": [
    "lap_dict = transition_graph[cell_type[0] + \"->\" + cell_type[3]][\"LAP_pca\"]\n",
    "lap_dict[\"t\"] *= 3\n",
    "adata_labeling.uns[\"LAP_pca\"] = lap_dict\n"
   ]
  },
  {
   "cell_type": "markdown",
   "metadata": {},
   "source": [
    "### Ranking TF's importance for each LAP"
   ]
  },
  {
   "cell_type": "markdown",
   "metadata": {},
   "source": [
    "Let's re-rank each known TF from each known hematopoietic fate conversion based on their MSD rankings among all TFs. We will use the helper function\n",
    "``assign_tf_ranks`` to achieve this purpose. All the known TFs are collected from literature as mentioned above.\n"
   ]
  },
  {
   "cell_type": "code",
   "execution_count": null,
   "id": "177d96ac-375f-40f9-8670-3be207b6eb48",
   "metadata": {},
   "outputs": [],
   "source": [
    "def assign_tf_ranks(transition_graph: dict, transition: str, tfs: list, tfs_key=\"TFs\", tfs_rank_key=\"TFs_rank\"):\n",
    "    ranking = transition_graph[transition][\"ranking\"]\n",
    "    ranking[\"TF\"] = [i in human_tfs_names for i in list(ranking[\"all\"])]\n",
    "    true_tf_list = list(ranking.query(\"TF == True\")[\"all\"])\n",
    "    all_tfs = list(ranking.query(\"TF == True\")[\"all\"])\n",
    "    transition_graph[transition][tfs_key] = tfs\n",
    "\n",
    "    transition_graph[transition][tfs_rank_key] = [\n",
    "        all_tfs.index(key) if key in true_tf_list else -1 for key in transition_graph[transition][tfs_key]\n",
    "    ]\n",
    "\n",
    "\n",
    "assign_tf_ranks(transition_graph, \"HSC->Meg\", [\"GATA1\", \"GATA2\", \"ZFPM1\", \"GFI1B\", \"FLI1\", \"NFE2\"])\n"
   ]
  },
  {
   "cell_type": "code",
   "execution_count": null,
   "metadata": {},
   "outputs": [],
   "source": [
    "transition_graph[\"HSC->Meg\"][\"TFs\"]\n"
   ]
  },
  {
   "cell_type": "code",
   "execution_count": null,
   "id": "99fde150-4dd6-4e24-9f3a-336ead8985bd",
   "metadata": {},
   "outputs": [],
   "source": [
    "assign_tf_ranks(\n",
    "    transition_graph, \"HSC->Ery\", [\"GATA1\", \"ZFPM1\", \"GFI1B\", \"KLF1\", \"SPI1\", \"GATA2\", \"LDB1\", \"TAL1\", \"ZFPM1\"]\n",
    ")\n"
   ]
  },
  {
   "cell_type": "code",
   "execution_count": null,
   "id": "203ed2af-d27f-45ae-86ab-398464295594",
   "metadata": {},
   "outputs": [],
   "source": [
    "assign_tf_ranks(transition_graph, \"HSC->Bas\", [\"STAT5\", \"GATA2\", \"CEBPA\", \"MITF\"])\n",
    "assign_tf_ranks(transition_graph, \"HSC->Bas\", [\"CEBPA\", \"GATA2\", \"GATA1\", \"RUNX1\"])\n"
   ]
  },
  {
   "cell_type": "code",
   "execution_count": null,
   "id": "35af48c6-6150-458b-9fd0-91264626a872",
   "metadata": {},
   "outputs": [],
   "source": [
    "assign_tf_ranks(transition_graph, \"HSC->Mon\", [\"SPI1\", \"IRF8\", \"IRF5\", \"ZEB2\", \"KLF4\"])\n"
   ]
  },
  {
   "cell_type": "code",
   "execution_count": null,
   "id": "8da6f135-462a-4c63-be55-b49a7fcc608c",
   "metadata": {},
   "outputs": [],
   "source": [
    "assign_tf_ranks(transition_graph, \"HSC->Neu\", [\"GFI1\", \"PER3\", \"GATA1\", \"ETS3\"])\n"
   ]
  },
  {
   "cell_type": "code",
   "execution_count": null,
   "id": "9ec09434-24a8-476b-91ce-b5a8e250b184",
   "metadata": {},
   "outputs": [],
   "source": [
    "assign_tf_ranks(transition_graph, \"Meg->HSC\", [\"RUN1T1\", \"HLF\", \"LMO2\", \"PRDM5\", \"PBX1\", \"ZFP37\", \"MYCN\", \"MEIS1\"])\n"
   ]
  },
  {
   "cell_type": "code",
   "execution_count": null,
   "id": "417d5f62-adc9-4898-9356-aaecc5440a48",
   "metadata": {},
   "outputs": [],
   "source": [
    "assign_tf_ranks(transition_graph, \"Mon->Meg\", [\"GATA1\", \"ZFPM1\", \"GATA2\"])\n"
   ]
  },
  {
   "cell_type": "code",
   "execution_count": null,
   "id": "bb9c0a69-341a-4e01-a5b9-45162d8a6562",
   "metadata": {},
   "outputs": [],
   "source": [
    "assign_tf_ranks(transition_graph, \"Mon->Ery\", [\"GATA1\", \"ZFPM1\", \"GATA2\"])\n"
   ]
  },
  {
   "cell_type": "code",
   "execution_count": null,
   "id": "5df82488-d1e6-41c8-abde-a5b5ae7e18b5",
   "metadata": {},
   "outputs": [],
   "source": [
    "assign_tf_ranks(transition_graph, \"Meg->Neu\", [\"CEBPA\", \"CEBPB\", \"CEBPE\", \"SPI1\"])\n"
   ]
  },
  {
   "cell_type": "code",
   "execution_count": null,
   "id": "86bcdc04-5c48-4d1a-9b0d-d8001034ab6b",
   "metadata": {},
   "outputs": [],
   "source": [
    "# Tom's paper\n",
    "assign_tf_ranks(\n",
    "    transition_graph, \"Ery->Neu\", [\"CEBPA\", \"CEBPB\", \"CEBPE\", \"SPI1\"], tfs_rank_key=\"TFs_rank2\", tfs_key=\"TFs2\"\n",
    ")\n"
   ]
  },
  {
   "cell_type": "markdown",
   "id": "d77e6563-3200-4e3e-8654-f148f0407bd1",
   "metadata": {},
   "source": [
    "An erythroid to myeloid cell fate conversion is elicited by LSD1 inactivation\n"
   ]
  },
  {
   "cell_type": "code",
   "execution_count": null,
   "id": "c2ce0cb4-550a-4b25-aa25-7b44dd595d17",
   "metadata": {},
   "outputs": [],
   "source": [
    "assign_tf_ranks(transition_graph, \"Ery->Mon\", [\"LSD1\", \"RUNX1\"])\n",
    "assign_tf_ranks(transition_graph, \"Ery->Neu\", [\"LSD1\", \"RUNX1\"], tfs_rank_key=\"TFs_rank1\", tfs_key=\"TFs1\")\n"
   ]
  },
  {
   "cell_type": "code",
   "execution_count": null,
   "id": "fe072749-0bbf-42fe-a49b-e21c3c6f4b54",
   "metadata": {},
   "outputs": [],
   "source": [
    "# http://genesdev.cshlp.org/content/20/21/3010.long\n",
    "assign_tf_ranks(transition_graph, \"Mon->Bas\", [\"GATA2\", \"CEBPA\"])\n",
    "\n",
    "assign_tf_ranks(transition_graph, \"Neu->Bas\", [\"GATA2\", \"CEBPA\"])\n"
   ]
  },
  {
   "cell_type": "code",
   "execution_count": null,
   "metadata": {},
   "outputs": [],
   "source": [
    "transition_graph[\"Ery->Neu\"][\"TFs2\"], transition_graph[\"Ery->Neu\"][\"TFs_rank2\"]\n"
   ]
  },
  {
   "cell_type": "markdown",
   "metadata": {},
   "source": [
    "Here we will convert the rankings of known TFs to a priority score, simply defined as $1 - \\frac{\\# rank}{\\# TF}$.\n"
   ]
  },
  {
   "cell_type": "code",
   "execution_count": null,
   "metadata": {},
   "outputs": [],
   "source": [
    "from functools import reduce\n",
    "\n",
    "reprogramming_mat_dict = {\n",
    "    \"HSC->Meg\": {\n",
    "        \"genes\": transition_graph[\"HSC->Meg\"][\"TFs\"],\n",
    "        \"rank\": transition_graph[\"HSC->Meg\"][\"TFs_rank\"],\n",
    "        \"PMID\": 18295580,\n",
    "    },\n",
    "    \"HSC->Ery\": {\n",
    "        \"genes\": transition_graph[\"HSC->Ery\"][\"TFs\"],\n",
    "        \"rank\": transition_graph[\"HSC->Ery\"][\"TFs_rank\"],\n",
    "        \"PMID\": 18295580,\n",
    "    },\n",
    "    \"HSC->Bas\": {\n",
    "        \"genes\": transition_graph[\"HSC->Ery\"][\"TFs\"],\n",
    "        \"rank\": transition_graph[\"HSC->Ery\"][\"TFs_rank\"],\n",
    "        \"PMID\": 18295580,\n",
    "    },\n",
    "    \"HSC->Mon\": {\n",
    "        \"genes\": transition_graph[\"HSC->Mon\"][\"TFs\"],\n",
    "        \"rank\": transition_graph[\"HSC->Mon\"][\"TFs_rank\"],\n",
    "        \"PMID\": 18295580,\n",
    "    },\n",
    "    \"HSC->Neu\": {\n",
    "        \"genes\": transition_graph[\"HSC->Neu\"][\"TFs\"],\n",
    "        \"rank\": transition_graph[\"HSC->Neu\"][\"TFs_rank\"],\n",
    "        \"PMID\": 18295580,\n",
    "    },\n",
    "    \"Meg->HSC\": {\n",
    "        \"genes\": transition_graph[\"Meg->HSC\"][\"TFs\"],\n",
    "        \"rank\": transition_graph[\"Meg->HSC\"][\"TFs_rank\"],\n",
    "        \"PMID\": 24766805,\n",
    "    },\n",
    "    \"Meg->Neu\": {\n",
    "        \"genes\": transition_graph[\"Meg->Neu\"][\"TFs\"],\n",
    "        \"rank\": transition_graph[\"Meg->Neu\"][\"TFs_rank\"],\n",
    "        \"PMID\": 31395745,\n",
    "    },\n",
    "    \"Ery->Mon\": {\n",
    "        \"genes\": transition_graph[\"Ery->Mon\"][\"TFs\"],\n",
    "        \"rank\": transition_graph[\"Ery->Mon\"][\"TFs_rank\"],\n",
    "        \"PMID\": 34324630,\n",
    "    },\n",
    "    \"Ery->Neu1\": {\n",
    "        \"genes\": transition_graph[\"Ery->Neu\"][\"TFs1\"],\n",
    "        \"rank\": transition_graph[\"Ery->Neu\"][\"TFs_rank1\"],\n",
    "        \"PMID\": 31395745,\n",
    "    },\n",
    "    \"Ery->Neu2\": {\n",
    "        \"genes\": transition_graph[\"Ery->Neu\"][\"TFs2\"],\n",
    "        \"rank\": transition_graph[\"Ery->Neu\"][\"TFs_rank2\"],\n",
    "        \"PMID\": 34324630,\n",
    "    },\n",
    "    \"Mon->Meg\": {\n",
    "        \"genes\": transition_graph[\"Mon->Meg\"][\"TFs\"],\n",
    "        \"rank\": transition_graph[\"Mon->Meg\"][\"TFs_rank\"],\n",
    "        \"PMID\": 14499119,\n",
    "    },\n",
    "    \"Mon->Ery\": {\n",
    "        \"genes\": transition_graph[\"Mon->Ery\"][\"TFs\"],\n",
    "        \"rank\": transition_graph[\"Mon->Ery\"][\"TFs_rank\"],\n",
    "        \"PMID\": 14499119,\n",
    "    },\n",
    "    \"Mon->Bas\": {\n",
    "        \"genes\": transition_graph[\"Mon->Bas\"][\"TFs\"],\n",
    "        \"rank\": transition_graph[\"Mon->Bas\"][\"TFs_rank\"],\n",
    "        \"PMID\": 17079688,\n",
    "    },\n",
    "    \"Neu->Bas\": {\n",
    "        \"genes\": transition_graph[\"Neu->Bas\"][\"TFs\"],\n",
    "        \"rank\": transition_graph[\"Neu->Bas\"][\"TFs_rank\"],\n",
    "        \"PMID\": 17079688,\n",
    "    },\n",
    "}\n",
    "\n",
    "\n",
    "reprogramming_mat_df = pd.DataFrame(reprogramming_mat_dict)\n",
    "\n",
    "for key in reprogramming_mat_df:\n",
    "    assert len(reprogramming_mat_df[key][\"genes\"]) == len(reprogramming_mat_df[key][\"rank\"]), str(key)\n",
    "\n",
    "\n",
    "all_genes = reduce(lambda a, b: a + b, reprogramming_mat_df.loc[\"genes\", :])\n",
    "all_rank = reduce(lambda a, b: a + b, reprogramming_mat_df.loc[\"rank\", :])\n",
    "all_keys = np.repeat(\n",
    "    np.array(list(reprogramming_mat_dict.keys())), [len(i) for i in reprogramming_mat_df.loc[\"genes\", :]]\n",
    ")\n",
    "\n",
    "reprogramming_mat_df_p = pd.DataFrame({\"genes\": all_genes, \"rank\": all_rank, \"transition\": all_keys})\n",
    "reprogramming_mat_df_p = reprogramming_mat_df_p.query(\"rank > -1\")\n",
    "reprogramming_mat_df_p[\"type\"] = reprogramming_mat_df_p[\"transition\"].map(\n",
    "    {\n",
    "        \"HSC->Meg\": \"development\",\n",
    "        \"HSC->Ery\": \"development\",\n",
    "        \"HSC->Bas\": \"development\",\n",
    "        \"HSC->Mon\": \"development\",\n",
    "        \"HSC->Neu\": \"development\",\n",
    "        \"Meg->HSC\": \"reprogramming\",\n",
    "        \"Meg->Neu\": \"transdifferentiation\",\n",
    "        \"Ery->Mon\": \"transdifferentiation\",\n",
    "        \"Ery->Neu1\": \"transdifferentiation\",\n",
    "        \"Ery->Neu2\": \"transdifferentiation\",\n",
    "        \"Mon->Meg\": \"transdifferentiation\",\n",
    "        \"Mon->Ery\": \"transdifferentiation\",\n",
    "        \"Mon->Bas\": \"transdifferentiation\",\n",
    "        \"Neu->Bas\": \"transdifferentiation\",\n",
    "    }\n",
    ")\n",
    "\n",
    "reprogramming_mat_df_p[\"rank\"] /= 133\n",
    "reprogramming_mat_df_p[\"rank\"] = 1 - reprogramming_mat_df_p[\"rank\"]\n"
   ]
  },
  {
   "cell_type": "markdown",
   "metadata": {},
   "source": [
    "### Plotting priority scores of known TFs for specific hematopoietic trandifferentiations\n",
    "The y-axis is the hematopoietic trandifferentiation and the x-axis the TF priority scores for a specific transition.\n"
   ]
  },
  {
   "cell_type": "code",
   "execution_count": null,
   "metadata": {},
   "outputs": [],
   "source": [
    "dyn.configuration.set_pub_style()\n",
    "transition_color_dict = {\"development\": \"#2E3192\", \"reprogramming\": \"#EC2227\", \"transdifferentiation\": \"#B9519E\"}\n",
    "\n",
    "reprogramming_mat_df_p_subset = reprogramming_mat_df_p.query(\"type == 'transdifferentiation'\")\n",
    "rank = reprogramming_mat_df_p_subset[\"rank\"].values\n",
    "transition = reprogramming_mat_df_p_subset[\"transition\"].values\n",
    "genes = reprogramming_mat_df_p_subset[\"genes\"].values\n",
    "\n",
    "fig, ax = plt.subplots(1, 1, figsize=(10, 8))\n",
    "sns.scatterplot(\n",
    "    y=\"transition\",\n",
    "    x=\"rank\",\n",
    "    data=reprogramming_mat_df_p_subset,\n",
    "    ec=None,\n",
    "    hue=\"type\",\n",
    "    alpha=0.8,\n",
    "    ax=ax,\n",
    "    s=50,\n",
    "    palette=transition_color_dict,\n",
    "    clip_on=False,\n",
    ")\n",
    "\n",
    "for i in range(reprogramming_mat_df_p_subset.shape[0]):\n",
    "    annote_text = genes[i]  # STK_ID\n",
    "    ax.annotate(\n",
    "        annote_text, xy=(rank[i], transition[i]), xytext=(0, 3), textcoords=\"offset points\", ha=\"center\", va=\"bottom\",\n",
    "        fontsize=9\n",
    "    )\n",
    "\n",
    "plt.axvline(0.8, linestyle=\"--\", lw=0.5)\n",
    "ax.set_xlim(0.6, 1.01)\n",
    "ax.set_xlabel(\"Score\",  fontsize=14)\n",
    "ax.set_ylabel(\"transition\",  fontsize=14)\n",
    "ax.set_yticklabels(list(reprogramming_mat_dict.keys())[6:], rotation=0)\n",
    "ax.legend().set_visible(False)\n",
    "ax.spines.top.set_position((\"outward\", 10))\n",
    "ax.spines.bottom.set_position((\"outward\", 10))\n",
    "\n",
    "ax.spines.right.set_visible(False)\n",
    "ax.spines.top.set_visible(False)\n",
    "ax.yaxis.set_ticks_position(\"left\")\n",
    "ax.xaxis.set_ticks_position(\"bottom\")\n",
    "\n",
    "\n",
    "plt.tick_params(axis='both', which='both', labelsize=10)\n",
    "plt.show()\n"
   ]
  },
  {
   "cell_type": "markdown",
   "metadata": {},
   "source": [
    "\n",
    "From the above plot, you can appreciate that our prediction works very well. Majority of the known TFs of the known transitions are prioritized as > 0.8 while some of them achiving perfect prioritization (score ~= 1)."
   ]
  },
  {
   "cell_type": "markdown",
   "metadata": {},
   "source": [
    "## ROC curve analyses of TF priorization of the LAP predictions\n",
    "Last but not least, let us evaluate our TF ranking via receiver operating curve (ROC) analyses. ROC of LAP TF prioritization predictions when using all known genes of all known transitions as the gold standard (see STAR Methods of :cite:p:`QIU2022`) reveals an AUC (area under curve) of ``0.83``, again indicating our LAP predictions and TFs prioritization works quiet well. \n",
    "\n",
    "These analyses reveal the potential of the LAP approach to predict the optimal paths and TF cocktails of cell-fate transitions with high accuracy, paving the road for à la carte reprogramming between any cell types of interest for applications in regenerative medicine (Graf and Enver, 2009)."
   ]
  },
  {
   "cell_type": "code",
   "execution_count": null,
   "metadata": {},
   "outputs": [],
   "source": [
    "all_ranks_list = [\n",
    "    HSC_Meg_ranking,\n",
    "    HSC_Ery_ranking,\n",
    "    HSC_Bas_ranking,\n",
    "    HSC_Mon_ranking,\n",
    "    HSC_Neu_ranking,\n",
    "    Meg_HSC_ranking,\n",
    "    Ery_Mon_ranking,\n",
    "    Ery_Neu_ranking,\n",
    "    Mon_Bas_ranking,\n",
    "    Neu_Bas_ranking,\n",
    "    Mon_Meg_ranking,\n",
    "    Mon_Ery_ranking,\n",
    "    Meg_Neu_ranking,\n",
    "    Ery_Neu_ranking,\n",
    "]\n",
    "\n",
    "all_ranks_df = pd.concat(all_ranks_list)\n",
    "\n",
    "all_ranks_df[\"priority_score\"] = (\n",
    "    1 - np.tile(np.arange(HSC_Bas_ranking.shape[0]), len(all_ranks_list)) / HSC_Bas_ranking.shape[0]\n",
    ")\n",
    "# all_ranks_df['priority_score'].hist()\n",
    "TFs = ranking[\"all\"][ranking[\"TF\"]].values\n",
    "valid_TFs = np.unique(reprogramming_mat_df_p[\"genes\"].values)\n"
   ]
  },
  {
   "cell_type": "code",
   "execution_count": null,
   "metadata": {},
   "outputs": [],
   "source": [
    "from sklearn.metrics import roc_curve, auc\n",
    "\n",
    "use_abs = False\n",
    "top_genes = len(TFs)\n",
    "\n",
    "cls = all_ranks_df[\"known_TF\"].astype(int)\n",
    "pred = all_ranks_df[\"priority_score\"]\n",
    "\n",
    "fpr, tpr, _ = roc_curve(cls, pred)\n",
    "roc_auc = auc(fpr, tpr)\n",
    "\n",
    "\n",
    "dyn.configuration.set_pub_style_mpltex()\n",
    "plt.figure(figsize=(1.3, 1))\n",
    "\n",
    "lw = 1.5\n",
    "fontsize=16\n",
    "figure = plt.figure(figsize=(10, 10))\n",
    "\n",
    "plt.tick_params(axis='both', which='both', labelsize=16)\n",
    "plt.plot(fpr, tpr, color=\"darkorange\", lw=lw, label=\"ROC curve (area = %0.2f)\" % roc_auc)\n",
    "plt.plot([0, 1], [0, 1], color=\"navy\", lw=lw, linestyle=\"--\")\n",
    "plt.xlim([0.0, 1.0])\n",
    "plt.ylim([0.0, 1.05])\n",
    "plt.xlabel(\"False Positive Rate\", fontsize=fontsize)\n",
    "plt.ylabel(\"True Positive Rate\", fontsize=fontsize)\n",
    "\n",
    "# remove first x, y axis 0 tick\n",
    "ax = plt.gca()\n",
    "plt.setp(ax.get_yticklabels()[0], visible=False)    \n",
    "plt.setp(ax.get_xticklabels()[0], visible=False)\n",
    "# plt.title(cur_guide)\n",
    "plt.legend(loc=\"lower right\")\n",
    "plt.legend(loc=2, prop={'size': 20})\n",
    "plt.show()\n",
    "\n",
    "plt.tight_layout()\n"
   ]
  }
 ],
 "metadata": {
  "interpreter": {
   "hash": "149170a34b80921e9f067d63e9cd48cc3daa8835f3726c438cfa63a39a78a9cb"
  },
  "kernelspec": {
   "display_name": "Python 3 (ipykernel)",
   "language": "python",
   "name": "python3"
  },
  "language_info": {
   "codemirror_mode": {
    "name": "ipython",
    "version": 3
   },
   "file_extension": ".py",
   "mimetype": "text/x-python",
   "name": "python",
   "nbconvert_exporter": "python",
   "pygments_lexer": "ipython3",
   "version": "3.9.7"
  }
 },
 "nbformat": 4,
 "nbformat_minor": 2
}
